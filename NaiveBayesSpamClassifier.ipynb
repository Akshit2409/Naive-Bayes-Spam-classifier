{
 "cells": [
  {
   "cell_type": "code",
   "execution_count": null,
   "metadata": {
    "collapsed": true
   },
   "outputs": [],
   "source": [
    "# Here we have appliead Naive Bayes classifier on a data set by Kaggle, to classify whether an email is spam or ham."
   ]
  },
  {
   "cell_type": "code",
   "execution_count": 1,
   "metadata": {
    "collapsed": true
   },
   "outputs": [],
   "source": [
    "# Importing all the necessary libraries for this code\n",
    "import pandas as pd\n",
    "import numpy as np\n",
    "import string\n",
    "from collections import Counter\n",
    "import re"
   ]
  },
  {
   "cell_type": "code",
   "execution_count": 2,
   "metadata": {
    "collapsed": true
   },
   "outputs": [],
   "source": [
    "# Reading the data\n",
    "Data = pd.read_csv(\"spamraw.csv\")"
   ]
  },
  {
   "cell_type": "code",
   "execution_count": 3,
   "metadata": {
    "collapsed": true
   },
   "outputs": [],
   "source": [
    "# Dividing the data into training and testing\n",
    "TrainData, TestData = np.split(Data,[int(0.7*len(Data))])"
   ]
  },
  {
   "cell_type": "markdown",
   "metadata": {},
   "source": [
    "# Training Begins"
   ]
  },
  {
   "cell_type": "code",
   "execution_count": 4,
   "metadata": {
    "collapsed": true
   },
   "outputs": [],
   "source": [
    "# Classifying the spam and ham emails\n",
    "SpamData = TrainData[TrainData[\"type\"] == \"spam\"]\n",
    "HamData = TrainData[TrainData[\"type\"] == \"ham\"]"
   ]
  },
  {
   "cell_type": "code",
   "execution_count": 5,
   "metadata": {
    "collapsed": true
   },
   "outputs": [],
   "source": [
    "# Removing symbols, taking all the words in lowercase and concatinating it in a string\n",
    "SpamWords = ''\n",
    "HamWords = ''\n",
    "for i in range(0,len(SpamData)):\n",
    "    Temp = SpamData['text'].iloc[i]\n",
    "    Temp = re.sub(r'[^\\w\\s]','',Temp)\n",
    "    SpamWords = SpamWords + \" \" + Temp\n",
    "    SpamWords.lower()\n",
    "for i in range(0,len(HamData)):\n",
    "    Temp = HamData['text'].iloc[i]\n",
    "    Temp = re.sub(r'[^\\w\\s]','',Temp)\n",
    "    HamWords = HamWords + \" \" + Temp\n",
    "    HamWords.lower()"
   ]
  },
  {
   "cell_type": "code",
   "execution_count": 6,
   "metadata": {
    "collapsed": true
   },
   "outputs": [],
   "source": [
    "# Taking the frequency of each word and converting it to a dictionary\n",
    "SpamCount = dict(Counter(SpamWords.split()))\n",
    "HamCount = dict(Counter(HamWords.split()))"
   ]
  },
  {
   "cell_type": "code",
   "execution_count": 7,
   "metadata": {
    "collapsed": true
   },
   "outputs": [],
   "source": [
    "# Calculating the probability of every word\n",
    "SpamValues = np.array(list(SpamCount.values()))\n",
    "HamValues = np.array(list(HamCount.values()))\n",
    "SpamKeys = list(SpamCount.keys())\n",
    "HamKeys = list(HamCount.keys())\n",
    "SpamValues = SpamValues/len(SpamValues)\n",
    "HamValues = HamValues/len(HamValues)\n",
    "SpamDict = dict(zip(SpamKeys, SpamValues))\n",
    "HamDict = dict(zip(HamKeys, HamValues))"
   ]
  },
  {
   "cell_type": "code",
   "execution_count": 8,
   "metadata": {
    "collapsed": true
   },
   "outputs": [],
   "source": [
    "# Calculating probability for spam and ham class\n",
    "PSpam = np.log(len(SpamData)/len(TrainData))\n",
    "PHam = np.log(len(HamData)/len(TrainData))"
   ]
  },
  {
   "cell_type": "markdown",
   "metadata": {},
   "source": [
    "# Testing Time"
   ]
  },
  {
   "cell_type": "code",
   "execution_count": 9,
   "metadata": {},
   "outputs": [
    {
     "name": "stdout",
     "output_type": "stream",
     "text": [
      "The accuracy of the model is 86.7505995203837 %\n"
     ]
    }
   ],
   "source": [
    "# Here we will convert the Test Data into lower case and check the accuracy of the model\n",
    "PofSpam = 0\n",
    "PofHam = 0\n",
    "answers = []\n",
    "correct = 0\n",
    "for i in range(0,len(TestData)):\n",
    "    Temp = TestData['text'].iloc[i]\n",
    "    Temp = re.sub(r'[^\\w\\s]','',Temp)\n",
    "    Temp = Temp.lower()\n",
    "    Temp = Temp.split()\n",
    "    \n",
    "    CommonSpam = list(set(Temp) & set(SpamDict.keys()))\n",
    "    CommonHam = list(set(Temp) & set(HamDict.keys()))\n",
    "    \n",
    "    for j in range(0,len(CommonSpam)):\n",
    "        PofSpam = PofSpam + np.log(SpamDict[CommonSpam[j]])\n",
    "        \n",
    "    for k in range(0,len(CommonHam)):\n",
    "        PofHam = PofHam + np.log(HamDict[CommonHam[k]])\n",
    "        \n",
    "    FPSpam = (PSpam*PofSpam )/(PHam )\n",
    "    FPHam = (PHam*PofHam )/(PSpam )\n",
    "    \n",
    "    if FPSpam>FPHam:\n",
    "        answers.append(\"spam\")\n",
    "        \n",
    "    else:\n",
    "        answers.append(\"ham\")\n",
    "\n",
    "for i in range(0,len(answers)):\n",
    "    if(answers[i] == TestData['type'].iloc[i]):\n",
    "        correct = correct + 1\n",
    "\n",
    "Accuracy = correct/len(TestData)*100\n",
    "print(\"The accuracy of the model is\", Accuracy,\"%\")\n",
    "   "
   ]
  },
  {
   "cell_type": "code",
   "execution_count": null,
   "metadata": {
    "collapsed": true
   },
   "outputs": [],
   "source": []
  }
 ],
 "metadata": {
  "kernelspec": {
   "display_name": "Python 3",
   "language": "python",
   "name": "python3"
  },
  "language_info": {
   "codemirror_mode": {
    "name": "ipython",
    "version": 3
   },
   "file_extension": ".py",
   "mimetype": "text/x-python",
   "name": "python",
   "nbconvert_exporter": "python",
   "pygments_lexer": "ipython3",
   "version": "3.6.3"
  }
 },
 "nbformat": 4,
 "nbformat_minor": 2
}
